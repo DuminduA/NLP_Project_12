{
 "cells": [
  {
   "cell_type": "code",
   "execution_count": 223,
   "id": "5483e2ea-c111-4a19-9365-904ec8e9451a",
   "metadata": {},
   "outputs": [],
   "source": [
    "import pandas as pd\n",
    "import json\n",
    "import matplotlib.pyplot as plt\n",
    "import numpy as np"
   ]
  },
  {
   "cell_type": "code",
   "execution_count": 224,
   "id": "b881cbc4-0f2f-4729-8b31-ba7e2cd0c616",
   "metadata": {},
   "outputs": [],
   "source": [
    "# Import dataset\n",
    "characters_df = pd.read_csv(\"./dataset/Characters.csv\", sep=\";\")\n",
    "movie1_df = pd.read_csv(\"./dataset/Harry Potter 1.csv\", sep=\";\")\n",
    "movie2_df = pd.read_csv(\"./dataset/Harry Potter 2.csv\", sep=\";\")\n",
    "movie3_df = pd.read_csv(\"./dataset/Harry Potter 3.csv\", sep=\";\")\n",
    "potions_df = pd.read_csv(\"./dataset/Potions.csv\", sep=\";\")\n",
    "other_characters_df = pd.read_csv(\"./dataset/shortversioncharacters.csv\", sep=\",\")\n",
    "spells_df = pd.read_csv(\"./dataset/Spells.csv\", sep=\";\")"
   ]
  },
  {
   "cell_type": "code",
   "execution_count": 225,
   "id": "b9b38ff7-ae6a-45bd-8c44-b36a72268698",
   "metadata": {
    "scrolled": true
   },
   "outputs": [],
   "source": [
    "# Analyze characters\n",
    "class Character():\n",
    "    def __init__(self, df):\n",
    "        self.data = df\n",
    "        f = open(\"./resources/character_mapping.json\", \"r\")\n",
    "        self.character_mapping = json.load(f)\n",
    "        f.close()\n",
    "        \n",
    "    def map(self, character_name):\n",
    "        # Map similar character to a group\n",
    "        if character_name in self.character_mapping and self.character_mapping[character_name] is not None:\n",
    "            return self.character_mapping[character_name].title()\n",
    "        else:\n",
    "            return character_name.title()"
   ]
  },
  {
   "cell_type": "code",
   "execution_count": 226,
   "id": "ec35fdc8-6c43-452e-a016-e9708858a4b5",
   "metadata": {},
   "outputs": [],
   "source": [
    "# Movie\n",
    "movie1_df['Movie'] = 'Harry Potter and the Sorcerers Stone'\n",
    "movie2_df['Movie'] = 'Harry Potter and the Chamber of Secrets'\n",
    "movie3_df['Movie'] = 'Harry Potter and the Prisoner of Azkaban'\n",
    "\n",
    "movies_list = [movie1_df, movie2_df, movie3_df]\n",
    "\n",
    "class Movie():\n",
    "    def __init__(self, df: list):\n",
    "        self.movie_list = df\n",
    "        self.movies_df = self.combine_movies()\n",
    "\n",
    "    def combine_movies(self):\n",
    "        # Combine movies\n",
    "        for i in self.movie_list:\n",
    "            i.columns = map(str.title, i.columns)\n",
    "        \n",
    "        return pd.concat([movie1_df, movie2_df, movie3_df], ignore_index=False)\n",
    "        \n",
    "    def preprocess(self):\n",
    "        # Strip the spaces in character to remove identifying the same character twice\n",
    "        self.movies_df[\"Character\"] = self.movies_df.apply(lambda row: row[\"Character\"].strip().title(), axis=1)\n"
   ]
  },
  {
   "cell_type": "code",
   "execution_count": 227,
   "id": "3305f357-b61c-404f-a267-a1a6c7e364a9",
   "metadata": {},
   "outputs": [],
   "source": [
    "# Preprocess\n",
    "def preprocessing():\n",
    "    c = Character(characters_df)\n",
    "    \n",
    "    m = Movie(movies_list)\n",
    "    m.preprocess()\n",
    "    \n",
    "    for i, j in m.movies_df.iterrows():\n",
    "        j[\"Character\"] = c.map(j[\"Character\"])\n",
    "\n",
    "    return c,m\n",
    "\n",
    "c, m = preprocessing()"
   ]
  },
  {
   "cell_type": "code",
   "execution_count": 234,
   "id": "e0fc974e-603b-4e70-bac0-3032af7da82b",
   "metadata": {},
   "outputs": [
    {
     "data": {
      "text/html": [
       "<div>\n",
       "<style scoped>\n",
       "    .dataframe tbody tr th:only-of-type {\n",
       "        vertical-align: middle;\n",
       "    }\n",
       "\n",
       "    .dataframe tbody tr th {\n",
       "        vertical-align: top;\n",
       "    }\n",
       "\n",
       "    .dataframe thead th {\n",
       "        text-align: right;\n",
       "    }\n",
       "</style>\n",
       "<table border=\"1\" class=\"dataframe\">\n",
       "  <thead>\n",
       "    <tr style=\"text-align: right;\">\n",
       "      <th></th>\n",
       "      <th>Character</th>\n",
       "      <th>Sentence</th>\n",
       "      <th>Movie</th>\n",
       "    </tr>\n",
       "  </thead>\n",
       "  <tbody>\n",
       "    <tr>\n",
       "      <th>41</th>\n",
       "      <td>Harry</td>\n",
       "      <td>1028</td>\n",
       "      <td>1028</td>\n",
       "    </tr>\n",
       "    <tr>\n",
       "      <th>78</th>\n",
       "      <td>Ron</td>\n",
       "      <td>536</td>\n",
       "      <td>536</td>\n",
       "    </tr>\n",
       "    <tr>\n",
       "      <th>44</th>\n",
       "      <td>Hermione</td>\n",
       "      <td>485</td>\n",
       "      <td>485</td>\n",
       "    </tr>\n",
       "    <tr>\n",
       "      <th>40</th>\n",
       "      <td>Hagrid</td>\n",
       "      <td>394</td>\n",
       "      <td>394</td>\n",
       "    </tr>\n",
       "    <tr>\n",
       "      <th>21</th>\n",
       "      <td>Dumbledore</td>\n",
       "      <td>239</td>\n",
       "      <td>239</td>\n",
       "    </tr>\n",
       "    <tr>\n",
       "      <th>...</th>\n",
       "      <td>...</td>\n",
       "      <td>...</td>\n",
       "      <td>...</td>\n",
       "    </tr>\n",
       "    <tr>\n",
       "      <th>86</th>\n",
       "      <td>Slytherins</td>\n",
       "      <td>1</td>\n",
       "      <td>1</td>\n",
       "    </tr>\n",
       "    <tr>\n",
       "      <th>13</th>\n",
       "      <td>Cornish Pixies</td>\n",
       "      <td>1</td>\n",
       "      <td>1</td>\n",
       "    </tr>\n",
       "    <tr>\n",
       "      <th>69</th>\n",
       "      <td>Parvati</td>\n",
       "      <td>1</td>\n",
       "      <td>1</td>\n",
       "    </tr>\n",
       "    <tr>\n",
       "      <th>70</th>\n",
       "      <td>Penelope Clearwater</td>\n",
       "      <td>1</td>\n",
       "      <td>1</td>\n",
       "    </tr>\n",
       "    <tr>\n",
       "      <th>94</th>\n",
       "      <td>Teacher</td>\n",
       "      <td>1</td>\n",
       "      <td>1</td>\n",
       "    </tr>\n",
       "  </tbody>\n",
       "</table>\n",
       "<p>108 rows × 3 columns</p>\n",
       "</div>"
      ],
      "text/plain": [
       "              Character  Sentence  Movie\n",
       "41                Harry      1028   1028\n",
       "78                  Ron       536    536\n",
       "44             Hermione       485    485\n",
       "40               Hagrid       394    394\n",
       "21           Dumbledore       239    239\n",
       "..                  ...       ...    ...\n",
       "86           Slytherins         1      1\n",
       "13       Cornish Pixies         1      1\n",
       "69              Parvati         1      1\n",
       "70  Penelope Clearwater         1      1\n",
       "94              Teacher         1      1\n",
       "\n",
       "[108 rows x 3 columns]"
      ]
     },
     "execution_count": 234,
     "metadata": {},
     "output_type": "execute_result"
    }
   ],
   "source": [
    "grouped = m.movies_df.groupby(\"Character\").count().reset_index()\n",
    "grouped.sort_values('Sentence', ascending=False)"
   ]
  },
  {
   "cell_type": "code",
   "execution_count": 231,
   "id": "d554b727-e272-47ba-8fbf-cb7349c9cf05",
   "metadata": {},
   "outputs": [
    {
     "data": {
      "image/png": "[encoded data removed]",
      "text/plain": [
       "<Figure size 640x480 with 1 Axes>"
      ]
     },
     "metadata": {},
     "output_type": "display_data"
    }
   ],
   "source": [
    "# create histograms for length of total script\n",
    "def plotLengethOfTotalScript(df):\n",
    "    # grouped.plot(kind='bar')\n",
    "    pd.Series(grouped[\"Sentence\"]).plot(kind='bar')\n",
    "\n",
    "plotLengethOfTotalScript(m.movies_df)"
   ]
  },
  {
   "cell_type": "code",
   "execution_count": null,
   "id": "d841b66e-bf6e-40aa-9f7d-65054820d310",
   "metadata": {},
   "outputs": [],
   "source": []
  },
  {
   "cell_type": "code",
   "execution_count": null,
   "id": "85228ced-9668-439b-8bd3-1db39bf052bf",
   "metadata": {},
   "outputs": [],
   "source": []
  }
 ],
 "metadata": {
  "kernelspec": {
   "display_name": "Python 3 (ipykernel)",
   "language": "python",
   "name": "python3"
  },
  "language_info": {
   "codemirror_mode": {
    "name": "ipython",
    "version": 3
   },
   "file_extension": ".py",
   "mimetype": "text/x-python",
   "name": "python",
   "nbconvert_exporter": "python",
   "pygments_lexer": "ipython3",
   "version": "3.11.5"
  }
 },
 "nbformat": 4,
 "nbformat_minor": 5
}
